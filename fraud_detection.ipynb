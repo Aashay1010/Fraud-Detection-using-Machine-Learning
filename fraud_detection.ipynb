{
 "cells": [
  {
   "cell_type": "markdown",
   "metadata": {},
   "source": [
    "Importing the libraries for data cleaning"
   ]
  },
  {
   "cell_type": "code",
   "execution_count": 76,
   "metadata": {},
   "outputs": [],
   "source": [
    "import pandas as pd\n",
    "import numpy as np"
   ]
  },
  {
   "cell_type": "markdown",
   "metadata": {},
   "source": [
    "Importing the dataset and printing first 5 rows"
   ]
  },
  {
   "cell_type": "code",
   "execution_count": 77,
   "metadata": {},
   "outputs": [
    {
     "data": {
      "text/html": [
       "<div>\n",
       "<style scoped>\n",
       "    .dataframe tbody tr th:only-of-type {\n",
       "        vertical-align: middle;\n",
       "    }\n",
       "\n",
       "    .dataframe tbody tr th {\n",
       "        vertical-align: top;\n",
       "    }\n",
       "\n",
       "    .dataframe thead th {\n",
       "        text-align: right;\n",
       "    }\n",
       "</style>\n",
       "<table border=\"1\" class=\"dataframe\">\n",
       "  <thead>\n",
       "    <tr style=\"text-align: right;\">\n",
       "      <th></th>\n",
       "      <th>step</th>\n",
       "      <th>type</th>\n",
       "      <th>amount</th>\n",
       "      <th>nameOrig</th>\n",
       "      <th>oldbalanceOrg</th>\n",
       "      <th>newbalanceOrig</th>\n",
       "      <th>nameDest</th>\n",
       "      <th>oldbalanceDest</th>\n",
       "      <th>newbalanceDest</th>\n",
       "      <th>isFraud</th>\n",
       "      <th>isFlaggedFraud</th>\n",
       "    </tr>\n",
       "  </thead>\n",
       "  <tbody>\n",
       "    <tr>\n",
       "      <th>0</th>\n",
       "      <td>1</td>\n",
       "      <td>PAYMENT</td>\n",
       "      <td>9839.64</td>\n",
       "      <td>C1231006815</td>\n",
       "      <td>170136.0</td>\n",
       "      <td>160296.36</td>\n",
       "      <td>M1979787155</td>\n",
       "      <td>0.0</td>\n",
       "      <td>0.0</td>\n",
       "      <td>0</td>\n",
       "      <td>0</td>\n",
       "    </tr>\n",
       "    <tr>\n",
       "      <th>1</th>\n",
       "      <td>1</td>\n",
       "      <td>PAYMENT</td>\n",
       "      <td>1864.28</td>\n",
       "      <td>C1666544295</td>\n",
       "      <td>21249.0</td>\n",
       "      <td>19384.72</td>\n",
       "      <td>M2044282225</td>\n",
       "      <td>0.0</td>\n",
       "      <td>0.0</td>\n",
       "      <td>0</td>\n",
       "      <td>0</td>\n",
       "    </tr>\n",
       "    <tr>\n",
       "      <th>2</th>\n",
       "      <td>1</td>\n",
       "      <td>TRANSFER</td>\n",
       "      <td>181.00</td>\n",
       "      <td>C1305486145</td>\n",
       "      <td>181.0</td>\n",
       "      <td>0.00</td>\n",
       "      <td>C553264065</td>\n",
       "      <td>0.0</td>\n",
       "      <td>0.0</td>\n",
       "      <td>1</td>\n",
       "      <td>0</td>\n",
       "    </tr>\n",
       "    <tr>\n",
       "      <th>3</th>\n",
       "      <td>1</td>\n",
       "      <td>CASH_OUT</td>\n",
       "      <td>181.00</td>\n",
       "      <td>C840083671</td>\n",
       "      <td>181.0</td>\n",
       "      <td>0.00</td>\n",
       "      <td>C38997010</td>\n",
       "      <td>21182.0</td>\n",
       "      <td>0.0</td>\n",
       "      <td>1</td>\n",
       "      <td>0</td>\n",
       "    </tr>\n",
       "    <tr>\n",
       "      <th>4</th>\n",
       "      <td>1</td>\n",
       "      <td>PAYMENT</td>\n",
       "      <td>11668.14</td>\n",
       "      <td>C2048537720</td>\n",
       "      <td>41554.0</td>\n",
       "      <td>29885.86</td>\n",
       "      <td>M1230701703</td>\n",
       "      <td>0.0</td>\n",
       "      <td>0.0</td>\n",
       "      <td>0</td>\n",
       "      <td>0</td>\n",
       "    </tr>\n",
       "  </tbody>\n",
       "</table>\n",
       "</div>"
      ],
      "text/plain": [
       "   step      type    amount     nameOrig  oldbalanceOrg  newbalanceOrig  \\\n",
       "0     1   PAYMENT   9839.64  C1231006815       170136.0       160296.36   \n",
       "1     1   PAYMENT   1864.28  C1666544295        21249.0        19384.72   \n",
       "2     1  TRANSFER    181.00  C1305486145          181.0            0.00   \n",
       "3     1  CASH_OUT    181.00   C840083671          181.0            0.00   \n",
       "4     1   PAYMENT  11668.14  C2048537720        41554.0        29885.86   \n",
       "\n",
       "      nameDest  oldbalanceDest  newbalanceDest  isFraud  isFlaggedFraud  \n",
       "0  M1979787155             0.0             0.0        0               0  \n",
       "1  M2044282225             0.0             0.0        0               0  \n",
       "2   C553264065             0.0             0.0        1               0  \n",
       "3    C38997010         21182.0             0.0        1               0  \n",
       "4  M1230701703             0.0             0.0        0               0  "
      ]
     },
     "execution_count": 77,
     "metadata": {},
     "output_type": "execute_result"
    }
   ],
   "source": [
    "df = pd.read_csv('Fraud.csv')\n",
    "df.head()"
   ]
  },
  {
   "cell_type": "markdown",
   "metadata": {},
   "source": [
    "Removing duplicate rows"
   ]
  },
  {
   "cell_type": "code",
   "execution_count": 78,
   "metadata": {},
   "outputs": [
    {
     "data": {
      "text/html": [
       "<div>\n",
       "<style scoped>\n",
       "    .dataframe tbody tr th:only-of-type {\n",
       "        vertical-align: middle;\n",
       "    }\n",
       "\n",
       "    .dataframe tbody tr th {\n",
       "        vertical-align: top;\n",
       "    }\n",
       "\n",
       "    .dataframe thead th {\n",
       "        text-align: right;\n",
       "    }\n",
       "</style>\n",
       "<table border=\"1\" class=\"dataframe\">\n",
       "  <thead>\n",
       "    <tr style=\"text-align: right;\">\n",
       "      <th></th>\n",
       "      <th>step</th>\n",
       "      <th>type</th>\n",
       "      <th>amount</th>\n",
       "      <th>nameOrig</th>\n",
       "      <th>oldbalanceOrg</th>\n",
       "      <th>newbalanceOrig</th>\n",
       "      <th>nameDest</th>\n",
       "      <th>oldbalanceDest</th>\n",
       "      <th>newbalanceDest</th>\n",
       "      <th>isFraud</th>\n",
       "      <th>isFlaggedFraud</th>\n",
       "    </tr>\n",
       "  </thead>\n",
       "  <tbody>\n",
       "    <tr>\n",
       "      <th>0</th>\n",
       "      <td>1</td>\n",
       "      <td>PAYMENT</td>\n",
       "      <td>9839.64</td>\n",
       "      <td>C1231006815</td>\n",
       "      <td>170136.0</td>\n",
       "      <td>160296.36</td>\n",
       "      <td>M1979787155</td>\n",
       "      <td>0.0</td>\n",
       "      <td>0.0</td>\n",
       "      <td>0</td>\n",
       "      <td>0</td>\n",
       "    </tr>\n",
       "    <tr>\n",
       "      <th>1</th>\n",
       "      <td>1</td>\n",
       "      <td>PAYMENT</td>\n",
       "      <td>1864.28</td>\n",
       "      <td>C1666544295</td>\n",
       "      <td>21249.0</td>\n",
       "      <td>19384.72</td>\n",
       "      <td>M2044282225</td>\n",
       "      <td>0.0</td>\n",
       "      <td>0.0</td>\n",
       "      <td>0</td>\n",
       "      <td>0</td>\n",
       "    </tr>\n",
       "    <tr>\n",
       "      <th>2</th>\n",
       "      <td>1</td>\n",
       "      <td>TRANSFER</td>\n",
       "      <td>181.00</td>\n",
       "      <td>C1305486145</td>\n",
       "      <td>181.0</td>\n",
       "      <td>0.00</td>\n",
       "      <td>C553264065</td>\n",
       "      <td>0.0</td>\n",
       "      <td>0.0</td>\n",
       "      <td>1</td>\n",
       "      <td>0</td>\n",
       "    </tr>\n",
       "    <tr>\n",
       "      <th>3</th>\n",
       "      <td>1</td>\n",
       "      <td>CASH_OUT</td>\n",
       "      <td>181.00</td>\n",
       "      <td>C840083671</td>\n",
       "      <td>181.0</td>\n",
       "      <td>0.00</td>\n",
       "      <td>C38997010</td>\n",
       "      <td>21182.0</td>\n",
       "      <td>0.0</td>\n",
       "      <td>1</td>\n",
       "      <td>0</td>\n",
       "    </tr>\n",
       "    <tr>\n",
       "      <th>4</th>\n",
       "      <td>1</td>\n",
       "      <td>PAYMENT</td>\n",
       "      <td>11668.14</td>\n",
       "      <td>C2048537720</td>\n",
       "      <td>41554.0</td>\n",
       "      <td>29885.86</td>\n",
       "      <td>M1230701703</td>\n",
       "      <td>0.0</td>\n",
       "      <td>0.0</td>\n",
       "      <td>0</td>\n",
       "      <td>0</td>\n",
       "    </tr>\n",
       "  </tbody>\n",
       "</table>\n",
       "</div>"
      ],
      "text/plain": [
       "   step      type    amount     nameOrig  oldbalanceOrg  newbalanceOrig  \\\n",
       "0     1   PAYMENT   9839.64  C1231006815       170136.0       160296.36   \n",
       "1     1   PAYMENT   1864.28  C1666544295        21249.0        19384.72   \n",
       "2     1  TRANSFER    181.00  C1305486145          181.0            0.00   \n",
       "3     1  CASH_OUT    181.00   C840083671          181.0            0.00   \n",
       "4     1   PAYMENT  11668.14  C2048537720        41554.0        29885.86   \n",
       "\n",
       "      nameDest  oldbalanceDest  newbalanceDest  isFraud  isFlaggedFraud  \n",
       "0  M1979787155             0.0             0.0        0               0  \n",
       "1  M2044282225             0.0             0.0        0               0  \n",
       "2   C553264065             0.0             0.0        1               0  \n",
       "3    C38997010         21182.0             0.0        1               0  \n",
       "4  M1230701703             0.0             0.0        0               0  "
      ]
     },
     "execution_count": 78,
     "metadata": {},
     "output_type": "execute_result"
    }
   ],
   "source": [
    "df.drop_duplicates(subset=[\"nameOrig\"], keep=\"last\", inplace=True)\n",
    "df.head()"
   ]
  },
  {
   "cell_type": "markdown",
   "metadata": {},
   "source": [
    "Dropping columns to reduce noise when training"
   ]
  },
  {
   "cell_type": "code",
   "execution_count": 79,
   "metadata": {},
   "outputs": [],
   "source": [
    "df.drop('nameOrig', inplace=True, axis=1)\n",
    "df.drop('step', inplace=True, axis=1)\n",
    "df.drop('nameDest', inplace=True, axis=1)\n",
    "df.drop('isFlaggedFraud', inplace=True, axis=1)"
   ]
  },
  {
   "cell_type": "code",
   "execution_count": 14,
   "metadata": {},
   "outputs": [
    {
     "data": {
      "text/html": [
       "<div>\n",
       "<style scoped>\n",
       "    .dataframe tbody tr th:only-of-type {\n",
       "        vertical-align: middle;\n",
       "    }\n",
       "\n",
       "    .dataframe tbody tr th {\n",
       "        vertical-align: top;\n",
       "    }\n",
       "\n",
       "    .dataframe thead th {\n",
       "        text-align: right;\n",
       "    }\n",
       "</style>\n",
       "<table border=\"1\" class=\"dataframe\">\n",
       "  <thead>\n",
       "    <tr style=\"text-align: right;\">\n",
       "      <th></th>\n",
       "      <th>type</th>\n",
       "      <th>amount</th>\n",
       "      <th>oldbalanceOrg</th>\n",
       "      <th>newbalanceOrig</th>\n",
       "      <th>oldbalanceDest</th>\n",
       "      <th>newbalanceDest</th>\n",
       "      <th>isFraud</th>\n",
       "    </tr>\n",
       "  </thead>\n",
       "  <tbody>\n",
       "    <tr>\n",
       "      <th>0</th>\n",
       "      <td>PAYMENT</td>\n",
       "      <td>9839.64</td>\n",
       "      <td>170136.0</td>\n",
       "      <td>160296.36</td>\n",
       "      <td>0.0</td>\n",
       "      <td>0.0</td>\n",
       "      <td>0</td>\n",
       "    </tr>\n",
       "    <tr>\n",
       "      <th>1</th>\n",
       "      <td>PAYMENT</td>\n",
       "      <td>1864.28</td>\n",
       "      <td>21249.0</td>\n",
       "      <td>19384.72</td>\n",
       "      <td>0.0</td>\n",
       "      <td>0.0</td>\n",
       "      <td>0</td>\n",
       "    </tr>\n",
       "    <tr>\n",
       "      <th>2</th>\n",
       "      <td>TRANSFER</td>\n",
       "      <td>181.00</td>\n",
       "      <td>181.0</td>\n",
       "      <td>0.00</td>\n",
       "      <td>0.0</td>\n",
       "      <td>0.0</td>\n",
       "      <td>1</td>\n",
       "    </tr>\n",
       "    <tr>\n",
       "      <th>3</th>\n",
       "      <td>CASH_OUT</td>\n",
       "      <td>181.00</td>\n",
       "      <td>181.0</td>\n",
       "      <td>0.00</td>\n",
       "      <td>21182.0</td>\n",
       "      <td>0.0</td>\n",
       "      <td>1</td>\n",
       "    </tr>\n",
       "    <tr>\n",
       "      <th>4</th>\n",
       "      <td>PAYMENT</td>\n",
       "      <td>11668.14</td>\n",
       "      <td>41554.0</td>\n",
       "      <td>29885.86</td>\n",
       "      <td>0.0</td>\n",
       "      <td>0.0</td>\n",
       "      <td>0</td>\n",
       "    </tr>\n",
       "  </tbody>\n",
       "</table>\n",
       "</div>"
      ],
      "text/plain": [
       "       type    amount  oldbalanceOrg  newbalanceOrig  oldbalanceDest  \\\n",
       "0   PAYMENT   9839.64       170136.0       160296.36             0.0   \n",
       "1   PAYMENT   1864.28        21249.0        19384.72             0.0   \n",
       "2  TRANSFER    181.00          181.0            0.00             0.0   \n",
       "3  CASH_OUT    181.00          181.0            0.00         21182.0   \n",
       "4   PAYMENT  11668.14        41554.0        29885.86             0.0   \n",
       "\n",
       "   newbalanceDest  isFraud  \n",
       "0             0.0        0  \n",
       "1             0.0        0  \n",
       "2             0.0        1  \n",
       "3             0.0        1  \n",
       "4             0.0        0  "
      ]
     },
     "execution_count": 14,
     "metadata": {},
     "output_type": "execute_result"
    }
   ],
   "source": [
    "df.head()"
   ]
  },
  {
   "cell_type": "markdown",
   "metadata": {},
   "source": [
    "Checking data formatting of 9th row"
   ]
  },
  {
   "cell_type": "code",
   "execution_count": 80,
   "metadata": {},
   "outputs": [
    {
     "data": {
      "text/plain": [
       "type              PAYMENT\n",
       "amount            4024.36\n",
       "oldbalanceOrg      2671.0\n",
       "newbalanceOrig        0.0\n",
       "oldbalanceDest        0.0\n",
       "newbalanceDest        0.0\n",
       "isFraud                 0\n",
       "Name: 8, dtype: object"
      ]
     },
     "execution_count": 80,
     "metadata": {},
     "output_type": "execute_result"
    }
   ],
   "source": [
    "df.loc[8]"
   ]
  },
  {
   "cell_type": "markdown",
   "metadata": {},
   "source": [
    "Encoding the 'Type' column using label encoding and finding what they stand for"
   ]
  },
  {
   "cell_type": "code",
   "execution_count": 84,
   "metadata": {},
   "outputs": [
    {
     "name": "stdout",
     "output_type": "stream",
     "text": [
      "Label Encoding Mapping:\n",
      "CASH_IN -> 0\n",
      "CASH_OUT -> 1\n",
      "DEBIT -> 2\n",
      "PAYMENT -> 3\n",
      "TRANSFER -> 4\n"
     ]
    }
   ],
   "source": [
    "from sklearn.preprocessing import LabelEncoder\n",
    "\n",
    "# Assuming you have already fitted the LabelEncoder during preprocessing\n",
    "label_encoder = LabelEncoder()\n",
    "\n",
    "# Fit the encoder on the 'type' column\n",
    "types = ['PAYMENT', 'TRANSFER', 'CASH_OUT', 'DEBIT', 'CASH_IN']\n",
    "label_encoder.fit(types)\n",
    "\n",
    "# Find the mapping of unique string values to encoded labels\n",
    "class_mapping = list(zip(label_encoder.classes_, range(len(label_encoder.classes_))))\n",
    "\n",
    "# Print the mapping\n",
    "print(\"Label Encoding Mapping:\")\n",
    "for category, encoded_value in class_mapping:\n",
    "    print(f\"{category} -> {encoded_value}\")\n"
   ]
  },
  {
   "cell_type": "markdown",
   "metadata": {},
   "source": [
    "Importing xgboost model for training"
   ]
  },
  {
   "cell_type": "code",
   "execution_count": 24,
   "metadata": {},
   "outputs": [],
   "source": [
    "import xgboost as xgb"
   ]
  },
  {
   "cell_type": "markdown",
   "metadata": {},
   "source": [
    "Training the model"
   ]
  },
  {
   "cell_type": "code",
   "execution_count": 25,
   "metadata": {},
   "outputs": [],
   "source": [
    "from sklearn.model_selection import train_test_split\n",
    "\n",
    "# Defining x and y\n",
    "X = df.drop('isFraud', axis=1)\n",
    "y = df['isFraud']\n",
    "\n",
    "# Splitting the data into training and test sets\n",
    "X_train, X_test, y_train, y_test = train_test_split(X, y, test_size=0.2, random_state=42)"
   ]
  },
  {
   "cell_type": "markdown",
   "metadata": {},
   "source": [
    "Finding best hyperparameters"
   ]
  },
  {
   "cell_type": "code",
   "execution_count": 47,
   "metadata": {},
   "outputs": [],
   "source": [
    "import xgboost as xgb\n",
    "from sklearn.metrics import accuracy_score\n",
    "import optuna\n",
    "\n",
    "def objective(trial):\n",
    "    # Defining the hyperparameters to tune for binary classification\n",
    "    params = {\n",
    "        \"objective\": \"binary:logistic\",  # Binary classification objective\n",
    "        \"n_estimators\": 1000,            # Number of estimators (trees)\n",
    "        \"verbosity\": 0,                  # Suppress output\n",
    "        \"learning_rate\": trial.suggest_float(\"learning_rate\", 1e-3, 0.1, log=True),  # Learning rate\n",
    "        \"max_depth\": trial.suggest_int(\"max_depth\", 1, 10),  # Maximum depth of trees\n",
    "        \"subsample\": trial.suggest_float(\"subsample\", 0.05, 1.0),  # Subsampling ratio\n",
    "        \"colsample_bytree\": trial.suggest_float(\"colsample_bytree\", 0.05, 1.0),  # Column sampling per tree\n",
    "        \"min_child_weight\": trial.suggest_int(\"min_child_weight\", 1, 20),  # Minimum child weight\n",
    "    }\n",
    "\n",
    "    # Initialize XGBoost classifier with the suggested hyperparameters\n",
    "    model = xgb.XGBClassifier(**params)\n",
    "    \n",
    "    # Fit the model on training data\n",
    "    model.fit(X_train, y_train, verbose=False)\n",
    "    \n",
    "    # Make predictions on the validation set\n",
    "    predictions = model.predict(X_test)\n",
    "    \n",
    "    # Calculate accuracy (or any other metric suitable for classification)\n",
    "    accuracy = accuracy_score(y_test, predictions)\n",
    "    \n",
    "    return 1 - accuracy  # Optuna minimizes the objective, so we return 1 - accuracy to maximize it\n"
   ]
  },
  {
   "cell_type": "code",
   "execution_count": 48,
   "metadata": {},
   "outputs": [
    {
     "name": "stderr",
     "output_type": "stream",
     "text": [
      "[I 2024-12-04 17:33:02,112] A new study created in memory with name: no-name-ce35d1d1-5345-46b0-b730-7f093aadeff8\n",
      "[I 2024-12-04 17:35:43,632] Trial 0 finished with value: 0.001266269078637694 and parameters: {'learning_rate': 0.006588922380039456, 'max_depth': 2, 'subsample': 0.1687759160659278, 'colsample_bytree': 0.07919613958669043, 'min_child_weight': 5}. Best is trial 0 with value: 0.001266269078637694.\n",
      "[I 2024-12-04 17:38:57,713] Trial 1 finished with value: 0.0003871997431260654 and parameters: {'learning_rate': 0.01626795657170186, 'max_depth': 4, 'subsample': 0.6227621474328181, 'colsample_bytree': 0.7006806420912535, 'min_child_weight': 1}. Best is trial 1 with value: 0.0003871997431260654.\n",
      "[I 2024-12-04 17:42:26,826] Trial 2 finished with value: 0.00037460788156096214 and parameters: {'learning_rate': 0.07070318115378102, 'max_depth': 5, 'subsample': 0.4872637453446773, 'colsample_bytree': 0.405849890917609, 'min_child_weight': 8}. Best is trial 2 with value: 0.00037460788156096214.\n",
      "[I 2024-12-04 17:44:32,425] Trial 3 finished with value: 0.001266269078637694 and parameters: {'learning_rate': 0.0041133970802691424, 'max_depth': 1, 'subsample': 0.8204129145245482, 'colsample_bytree': 0.5776325058565409, 'min_child_weight': 3}. Best is trial 2 with value: 0.00037460788156096214.\n",
      "[I 2024-12-04 17:46:47,934] Trial 4 finished with value: 0.0010466984925967537 and parameters: {'learning_rate': 0.0011825915494462062, 'max_depth': 2, 'subsample': 0.9691719919081352, 'colsample_bytree': 0.8222942401619128, 'min_child_weight': 20}. Best is trial 2 with value: 0.00037460788156096214.\n",
      "[I 2024-12-04 17:49:02,956] Trial 5 finished with value: 0.0009687863491628645 and parameters: {'learning_rate': 0.001356991973558522, 'max_depth': 2, 'subsample': 0.47154861268718756, 'colsample_bytree': 0.9973043688602209, 'min_child_weight': 9}. Best is trial 2 with value: 0.00037460788156096214.\n",
      "[I 2024-12-04 17:52:15,577] Trial 6 finished with value: 0.0012497422603335862 and parameters: {'learning_rate': 0.009804204625490252, 'max_depth': 9, 'subsample': 0.0851196989056403, 'colsample_bytree': 0.24158461643490647, 'min_child_weight': 6}. Best is trial 2 with value: 0.00037460788156096214.\n",
      "[I 2024-12-04 17:56:05,528] Trial 7 finished with value: 0.0003675249594305985 and parameters: {'learning_rate': 0.04645329221201137, 'max_depth': 7, 'subsample': 0.6172254654529528, 'colsample_bytree': 0.5894107249768549, 'min_child_weight': 16}. Best is trial 7 with value: 0.0003675249594305985.\n",
      "[I 2024-12-04 17:59:03,297] Trial 8 finished with value: 0.0005178403068636372 and parameters: {'learning_rate': 0.0018247028393919885, 'max_depth': 5, 'subsample': 0.8909308802395767, 'colsample_bytree': 0.7781024323281068, 'min_child_weight': 7}. Best is trial 7 with value: 0.0003675249594305985.\n",
      "[I 2024-12-04 18:01:57,794] Trial 9 finished with value: 0.0005926044849062784 and parameters: {'learning_rate': 0.05634756655052827, 'max_depth': 3, 'subsample': 0.23636854575198812, 'colsample_bytree': 0.05357180033988075, 'min_child_weight': 6}. Best is trial 7 with value: 0.0003675249594305985.\n",
      "[I 2024-12-04 18:05:58,374] Trial 10 finished with value: 0.0003864127517781979 and parameters: {'learning_rate': 0.032864835915338585, 'max_depth': 8, 'subsample': 0.6645893252984735, 'colsample_bytree': 0.42979864634566434, 'min_child_weight': 15}. Best is trial 7 with value: 0.0003675249594305985.\n",
      "[I 2024-12-04 18:09:43,809] Trial 11 finished with value: 0.00037460788156096214 and parameters: {'learning_rate': 0.0900631579698935, 'max_depth': 7, 'subsample': 0.42964250009834104, 'colsample_bytree': 0.4128913627265538, 'min_child_weight': 13}. Best is trial 7 with value: 0.0003675249594305985.\n",
      "[I 2024-12-04 18:13:12,342] Trial 12 finished with value: 0.00038326478638694983 and parameters: {'learning_rate': 0.02927036181213711, 'max_depth': 6, 'subsample': 0.34369813399464116, 'colsample_bytree': 0.5455274569053938, 'min_child_weight': 17}. Best is trial 7 with value: 0.0003675249594305985.\n",
      "[I 2024-12-04 18:17:11,841] Trial 13 finished with value: 0.0005682077531239393 and parameters: {'learning_rate': 0.08239689997171594, 'max_depth': 10, 'subsample': 0.605686369716285, 'colsample_bytree': 0.3330245658840958, 'min_child_weight': 11}. Best is trial 7 with value: 0.0003675249594305985.\n",
      "[I 2024-12-04 18:20:48,023] Trial 14 finished with value: 0.00037067292482184655 and parameters: {'learning_rate': 0.03867721026322646, 'max_depth': 6, 'subsample': 0.7414825014971931, 'colsample_bytree': 0.6427390824466117, 'min_child_weight': 18}. Best is trial 7 with value: 0.0003675249594305985.\n",
      "[I 2024-12-04 18:24:32,628] Trial 15 finished with value: 0.00037460788156096214 and parameters: {'learning_rate': 0.03146116838607401, 'max_depth': 7, 'subsample': 0.7350776691794907, 'colsample_bytree': 0.6542464003101252, 'min_child_weight': 20}. Best is trial 7 with value: 0.0003675249594305985.\n",
      "[I 2024-12-04 18:28:01,671] Trial 16 finished with value: 0.0003651639853871069 and parameters: {'learning_rate': 0.018015784893536446, 'max_depth': 7, 'subsample': 0.7610898432381719, 'colsample_bytree': 0.8744622783240855, 'min_child_weight': 17}. Best is trial 16 with value: 0.0003651639853871069.\n",
      "[I 2024-12-04 18:31:33,061] Trial 17 finished with value: 0.00036201601999585886 and parameters: {'learning_rate': 0.01631061436185906, 'max_depth': 8, 'subsample': 0.7628656462768053, 'colsample_bytree': 0.9914512315221893, 'min_child_weight': 15}. Best is trial 17 with value: 0.00036201601999585886.\n",
      "[I 2024-12-04 18:35:08,841] Trial 18 finished with value: 0.0003549330978654952 and parameters: {'learning_rate': 0.01714214229076076, 'max_depth': 9, 'subsample': 0.8491843413287152, 'colsample_bytree': 0.9903605446112669, 'min_child_weight': 13}. Best is trial 18 with value: 0.0003549330978654952.\n",
      "[I 2024-12-04 18:38:30,442] Trial 19 finished with value: 0.00037460788156096214 and parameters: {'learning_rate': 0.004311813008481157, 'max_depth': 10, 'subsample': 0.9765955775829733, 'colsample_bytree': 0.9945660325463797, 'min_child_weight': 13}. Best is trial 18 with value: 0.0003549330978654952.\n",
      "[I 2024-12-04 18:41:58,128] Trial 20 finished with value: 0.0003494241584307556 and parameters: {'learning_rate': 0.018328567818997943, 'max_depth': 9, 'subsample': 0.868856423461877, 'colsample_bytree': 0.9129726766209201, 'min_child_weight': 12}. Best is trial 20 with value: 0.0003494241584307556.\n",
      "[I 2024-12-04 18:45:23,682] Trial 21 finished with value: 0.0003533591151698712 and parameters: {'learning_rate': 0.01637920595242523, 'max_depth': 9, 'subsample': 0.8526206235048303, 'colsample_bytree': 0.9101570820439314, 'min_child_weight': 12}. Best is trial 20 with value: 0.0003494241584307556.\n",
      "[I 2024-12-04 18:48:45,091] Trial 22 finished with value: 0.00036201601999585886 and parameters: {'learning_rate': 0.01025988072186594, 'max_depth': 9, 'subsample': 0.8906793127182112, 'colsample_bytree': 0.8888315994327836, 'min_child_weight': 11}. Best is trial 20 with value: 0.0003494241584307556.\n",
      "[I 2024-12-04 18:52:11,910] Trial 23 finished with value: 0.0003502111497786231 and parameters: {'learning_rate': 0.021490863519335077, 'max_depth': 9, 'subsample': 0.8744720253797211, 'colsample_bytree': 0.9045859142809712, 'min_child_weight': 13}. Best is trial 20 with value: 0.0003494241584307556.\n",
      "[I 2024-12-04 18:55:42,908] Trial 24 finished with value: 0.0003722469075174706 and parameters: {'learning_rate': 0.010162457848784882, 'max_depth': 10, 'subsample': 0.9090511482830252, 'colsample_bytree': 0.7775520361528747, 'min_child_weight': 10}. Best is trial 20 with value: 0.0003494241584307556.\n"
     ]
    },
    {
     "name": "stdout",
     "output_type": "stream",
     "text": [
      "Best hyperparameters: {'learning_rate': 0.018328567818997943, 'max_depth': 9, 'subsample': 0.868856423461877, 'colsample_bytree': 0.9129726766209201, 'min_child_weight': 12}\n",
      "Best RMSE: 0.0003494241584307556\n"
     ]
    }
   ],
   "source": [
    "# Creating the Optuna study and running optimization\n",
    "study = optuna.create_study(direction='minimize')\n",
    "study.optimize(objective, n_trials=25)\n",
    "print('Best hyperparameters:', study.best_params)\n",
    "print('Best RMSE:', study.best_value)"
   ]
  },
  {
   "cell_type": "markdown",
   "metadata": {},
   "source": [
    "Best hyperparameter was found by running the above commented code. [Trial 22 finished with value: 0.016569848821596934 and parameters: {'learning_rate': 0.05435437137174813, 'max_depth': 8, 'subsample': 0.40344376142128324, 'colsample_bytree': 0.8781257402324484, 'min_child_weight': 16}. Best is trial 22 with value: 0.016569848821596934.]"
   ]
  },
  {
   "cell_type": "code",
   "execution_count": 68,
   "metadata": {},
   "outputs": [
    {
     "name": "stdout",
     "output_type": "stream",
     "text": [
      "Training Accuracy: 0.9996\n",
      "Training Precision: 0.9958\n",
      "Training Recall: 0.6786\n",
      "Training F1-Score: 0.8072\n",
      "Testing Accuracy: 0.9996\n",
      "Testing Precision: 0.9899\n",
      "Testing Recall: 0.6687\n",
      "Testing F1-Score: 0.7982\n",
      "Training RMSE: 0.0205\n",
      "Testing RMSE: 0.0207\n"
     ]
    }
   ],
   "source": [
    "import optuna\n",
    "import xgboost as xgb\n",
    "from sklearn.metrics import accuracy_score, precision_score, recall_score, f1_score\n",
    "from sklearn.model_selection import train_test_split\n",
    "from sklearn.metrics import mean_squared_error\n",
    "# Calling the best parameters\n",
    "best_params = study.best_trial.params\n",
    "\n",
    "# Adjust n_estimators to 50 (for 50 epochs/rounds)\n",
    "best_params['n_estimators'] = 50\n",
    "\n",
    "# Create the XGBoost model with the best parameters\n",
    "model = xgb.XGBClassifier(**best_params)\n",
    "\n",
    "# Fit the model on the training data\n",
    "model.fit(X_train, y_train, verbose=False)\n",
    "\n",
    "# Make predictions on the training and testing data\n",
    "y_train_pred = model.predict(X_train)\n",
    "y_test_pred = model.predict(X_test)\n",
    "\n",
    "# Convert regression predictions into binary predictions (e.g., using 0.5 as the threshold)\n",
    "threshold = 0.5\n",
    "y_train_pred_binary = (y_train_pred >= threshold).astype(int)\n",
    "y_test_pred_binary = (y_test_pred >= threshold).astype(int)\n",
    "\n",
    "# Calculate metrics for the training set\n",
    "accuracy_train = accuracy_score(y_train, y_train_pred_binary)\n",
    "precision_train = precision_score(y_train, y_train_pred_binary)\n",
    "recall_train = recall_score(y_train, y_train_pred_binary)\n",
    "f1_train = f1_score(y_train, y_train_pred_binary)\n",
    "\n",
    "# Calculate metrics for the test set\n",
    "accuracy_test = accuracy_score(y_test, y_test_pred_binary)\n",
    "precision_test = precision_score(y_test, y_test_pred_binary)\n",
    "recall_test = recall_score(y_test, y_test_pred_binary)\n",
    "f1_test = f1_score(y_test, y_test_pred_binary)\n",
    "\n",
    "# Print out the evaluation metrics for both training and testing\n",
    "print(f\"Training Accuracy: {accuracy_train:.4f}\")\n",
    "print(f\"Training Precision: {precision_train:.4f}\")\n",
    "print(f\"Training Recall: {recall_train:.4f}\")\n",
    "print(f\"Training F1-Score: {f1_train:.4f}\")\n",
    "\n",
    "print(f\"Testing Accuracy: {accuracy_test:.4f}\")\n",
    "print(f\"Testing Precision: {precision_test:.4f}\")\n",
    "print(f\"Testing Recall: {recall_test:.4f}\")\n",
    "print(f\"Testing F1-Score: {f1_test:.4f}\")\n",
    "\n",
    "# Optionally, you can also calculate the RMSE for both train and test datasets\n",
    "rmse_train = mean_squared_error(y_train, y_train_pred, squared=False)\n",
    "rmse_test = mean_squared_error(y_test, y_test_pred, squared=False)\n",
    "print(f\"Training RMSE: {rmse_train:.4f}\")\n",
    "print(f\"Testing RMSE: {rmse_test:.4f}\")\n"
   ]
  },
  {
   "cell_type": "code",
   "execution_count": 56,
   "metadata": {},
   "outputs": [
    {
     "name": "stdout",
     "output_type": "stream",
     "text": [
      "Confusion Matrix:\n",
      "[[1269042      11]\n",
      " [    533    1076]]\n"
     ]
    }
   ],
   "source": [
    "from sklearn.metrics import confusion_matrix\n",
    "\n",
    "# Compute confusion matrix\n",
    "cm = confusion_matrix(y_test, y_pred)\n",
    "print(f\"Confusion Matrix:\\n{cm}\")\n"
   ]
  }
 ],
 "metadata": {
  "kernelspec": {
   "display_name": "Python 3",
   "language": "python",
   "name": "python3"
  },
  "language_info": {
   "codemirror_mode": {
    "name": "ipython",
    "version": 3
   },
   "file_extension": ".py",
   "mimetype": "text/x-python",
   "name": "python",
   "nbconvert_exporter": "python",
   "pygments_lexer": "ipython3",
   "version": "3.12.0"
  }
 },
 "nbformat": 4,
 "nbformat_minor": 2
}
